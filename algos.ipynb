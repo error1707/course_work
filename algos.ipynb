{
 "cells": [
  {
   "cell_type": "code",
   "execution_count": 13,
   "metadata": {
    "collapsed": true
   },
   "outputs": [],
   "source": [
    "import pandas as pd\n",
    "from geopy.distance import distance\n",
    "import networkx as nx\n",
    "import matplotlib.pyplot as plt"
   ]
  },
  {
   "cell_type": "code",
   "execution_count": 3,
   "outputs": [],
   "source": [
    "STORAGE_SIZE_SHARE = 0.05\n",
    "LATENCY_PER_KM = 0.0048\n",
    "NETWORK_FACTOR = 1.7\n",
    "DATA_PROCESSING_MS = 0"
   ],
   "metadata": {
    "collapsed": false,
    "pycharm": {
     "name": "#%%\n"
    }
   }
  },
  {
   "cell_type": "markdown",
   "source": [
    "Функция для расчета задержки между двумя узлами"
   ],
   "metadata": {
    "collapsed": false,
    "pycharm": {
     "name": "#%% md\n"
    }
   }
  },
  {
   "cell_type": "code",
   "execution_count": 4,
   "outputs": [],
   "source": [
    "# point -> (lat, lon)\n",
    "def get_latency(point1, point2):\n",
    "    return round(distance(point1, point2).km * LATENCY_PER_KM * NETWORK_FACTOR + DATA_PROCESSING_MS, 2)"
   ],
   "metadata": {
    "collapsed": false,
    "pycharm": {
     "name": "#%%\n"
    }
   }
  },
  {
   "cell_type": "markdown",
   "source": [
    "Загружаем граф, задаем веса ребрам и сохраняем кратчайшие пути между узлами"
   ],
   "metadata": {
    "collapsed": false,
    "pycharm": {
     "name": "#%% md\n"
    }
   }
  },
  {
   "cell_type": "code",
   "execution_count": 5,
   "outputs": [
    {
     "name": "stdout",
     "output_type": "stream",
     "text": [
      "NY54 <- 2.48 -> CMBR\n",
      "NY54 <- 9.37 -> CHCG\n",
      "NY54 <- 1.06 -> PHLA\n",
      "NY54 <- 2.68 -> WASH\n",
      "CMBR <- 3.54 -> PHLA\n",
      "CHCG <- 4.06 -> CLEV\n",
      "CHCG <- 8.75 -> PHLA\n",
      "CHCG <- 3.41 -> STLS\n",
      "CHCG <- 12.07 -> DNVR\n",
      "CHCG <- 5.42 -> KSCY\n",
      "CHCG <- 24.4 -> SNFN\n",
      "CHCG <- 22.81 -> STTL\n",
      "CHCG <- 16.54 -> SLKC\n",
      "CLEV <- 6.03 -> NSVL\n",
      "CLEV <- 6.46 -> STLS\n",
      "CLEV <- 4.71 -> PHLA\n",
      "RLGH <- 4.67 -> ATLN\n",
      "RLGH <- 3.06 -> WASH\n",
      "ATLN <- 7.12 -> WASH\n",
      "ATLN <- 2.82 -> NSVL\n",
      "ATLN <- 6.14 -> STLS\n",
      "ATLN <- 9.48 -> DLLS\n",
      "ATLN <- 5.26 -> ORLD\n",
      "PHLA <- 1.63 -> WASH\n",
      "NSVL <- 3.32 -> STLS\n",
      "NSVL <- 8.11 -> DLLS\n",
      "STLS <- 7.19 -> DLLS\n",
      "STLS <- 3.17 -> KSCY\n",
      "STLS <- 20.87 -> LA03\n",
      "NWOR <- 4.17 -> HSTN\n",
      "NWOR <- 5.82 -> DLLS\n",
      "NWOR <- 7.01 -> ORLD\n",
      "HSTN <- 2.49 -> SNAN\n",
      "HSTN <- 2.95 -> DLLS\n",
      "HSTN <- 11.15 -> ORLD\n",
      "SNAN <- 11.14 -> PHNX\n",
      "SNAN <- 3.31 -> DLLS\n",
      "DLLS <- 8.69 -> DNVR\n",
      "DLLS <- 5.95 -> KSCY\n",
      "DLLS <- 19.48 -> SNFN\n",
      "DLLS <- 16.28 -> LA03\n",
      "DNVR <- 7.29 -> KSCY\n",
      "DNVR <- 12.47 -> SNFN\n",
      "DNVR <- 4.88 -> SLKC\n",
      "KSCY <- 19.76 -> SNFN\n",
      "SNFN <- 0.99 -> SCRM\n",
      "SNFN <- 7.02 -> PTLD\n",
      "SNFN <- 8.91 -> STTL\n",
      "SNFN <- 7.89 -> SLKC\n",
      "SNFN <- 4.56 -> LA03\n",
      "SCRM <- 7.0 -> SLKC\n",
      "PTLD <- 1.9 -> STTL\n",
      "SLKC <- 7.61 -> LA03\n",
      "LA03 <- 1.46 -> SNDG\n",
      "LA03 <- 4.7 -> PHNX\n",
      "SNDG <- 3.93 -> PHNX\n"
     ]
    }
   ],
   "source": [
    "G = nx.read_gml(\"topology.gml\")\n",
    "\n",
    "# Сервер, который содержит все видео, а также все узлы сети обращаются к нему в самом начале\n",
    "ORIGIN_SERVER = \"DLLS\"\n",
    "\n",
    "# Задаем веса всем ребрам графа - задержки между узлами сети\n",
    "for A_label, B_label in G.edges:\n",
    "    A = G.nodes[A_label]\n",
    "    B = G.nodes[B_label]\n",
    "    G[A_label][B_label]['weight'] = get_latency((A['Latitude'], A['Longitude']), (B['Latitude'], B['Longitude']))\n",
    "    print(f\"{A_label} <- {G[A_label][B_label]['weight']} -> {B_label}\")\n",
    "\n",
    "\n",
    "# Определяем кратчайшие пути между всеми узлами и длину этих путей\n",
    "fast_path = {}\n",
    "fast_path_length = {}\n",
    "for src, (lengths, paths) in nx.all_pairs_dijkstra(G):\n",
    "    fast_path[src] = {}\n",
    "    for dst, path in paths.items():\n",
    "        fast_path[src][dst] = path\n",
    "\n",
    "    fast_path_length[src] = {}\n",
    "    for dst, length in lengths.items():\n",
    "        fast_path_length[src][dst] = length\n",
    "\n",
    "nodes = list(G.nodes)\n",
    "nodes.remove(ORIGIN_SERVER)"
   ],
   "metadata": {
    "collapsed": false,
    "pycharm": {
     "name": "#%%\n"
    }
   }
  },
  {
   "cell_type": "markdown",
   "source": [
    "Загружаем датасет с городами и определяем средневзвешенную по численности населения задержку между абстрактным клиентом и узлом"
   ],
   "metadata": {
    "collapsed": false
   }
  },
  {
   "cell_type": "code",
   "execution_count": 6,
   "outputs": [
    {
     "name": "stdout",
     "output_type": "stream",
     "text": [
      "28338/28338"
     ]
    },
    {
     "data": {
      "text/plain": "{'NY54': 0.32,\n 'CMBR': 0.55,\n 'CHCG': 1.72,\n 'CLEV': 1.55,\n 'RLGH': 1.45,\n 'ATLN': 1.11,\n 'PHLA': 0.42,\n 'WASH': 0.62,\n 'NSVL': 1.59,\n 'STLS': 1.11,\n 'NWOR': 1.35,\n 'HSTN': 1.92,\n 'SNAN': 1.77,\n 'ORLD': 2.41,\n 'DNVR': 1.33,\n 'KSCY': 2.41,\n 'SNFN': 4.2,\n 'SCRM': 0.83,\n 'PTLD': 0.79,\n 'STTL': 1.94,\n 'SLKC': 1.44,\n 'LA03': 0.68,\n 'SNDG': 0.45,\n 'PHNX': 1.32}"
     },
     "execution_count": 6,
     "metadata": {},
     "output_type": "execute_result"
    }
   ],
   "source": [
    "cities = pd.read_csv(\"uscities.csv\")\n",
    "\n",
    "# Для каждого города определяем ближайший узел сети\n",
    "node_cities = {i: [] for i in nodes}\n",
    "i = 1\n",
    "for city in cities.iloc:\n",
    "    point1 = (city[\"lat\"], city[\"lng\"])\n",
    "    population = city[\"population\"]\n",
    "    min_latency = -1\n",
    "    min_node = \"\"\n",
    "    for target_node in nodes:\n",
    "        point2 = (G.nodes[target_node]['Latitude'], G.nodes[target_node]['Longitude'])\n",
    "        latency = get_latency(point1, point2)\n",
    "        if min_latency == -1 or latency < min_latency:\n",
    "            min_latency = latency\n",
    "            min_node = target_node\n",
    "    node_cities[min_node].append((min_latency, population))\n",
    "    print(f\"\\r{i}/{cities.shape[0]}\", end='')\n",
    "    i += 1\n",
    "\n",
    "# Считаем средневзвешенную по численности населения задержку от абстрактного клиента до узла\n",
    "node_city_latency = {}\n",
    "for target_node, values in node_cities.items():\n",
    "    pop_lat = 0\n",
    "    sum_pop = 0\n",
    "    for lat, pop in values:\n",
    "        pop_lat += pop * lat\n",
    "        sum_pop += pop\n",
    "    node_city_latency[target_node] = round(pop_lat / sum_pop, 2)\n",
    "\n",
    "node_city_latency"
   ],
   "metadata": {
    "collapsed": false,
    "pycharm": {
     "name": "#%%\n"
    }
   }
  },
  {
   "cell_type": "markdown",
   "source": [
    "Загружаем датасет с видео, определяем популярность видео в виде доли просмотров от общего числа, определяем ограничение по размеру хранилища узла"
   ],
   "metadata": {
    "collapsed": false,
    "pycharm": {
     "name": "#%% md\n"
    }
   }
  },
  {
   "cell_type": "code",
   "execution_count": 7,
   "outputs": [],
   "source": [
    "videos = pd.read_csv(\"videos.csv\")\n",
    "# Чтобы не работало долго берем небольшую выборку\n",
    "videos = videos.sample(200)\n",
    "videos[\"popularity\"] = videos[\"view_count\"] / videos[\"view_count\"].sum()\n",
    "\n",
    "# Размер хранилища узла определяется как доля от суммарного размера видео в датасете\n",
    "NODE_STORAGE_SIZE = int(videos[\"video_size\"].sum() * STORAGE_SIZE_SHARE)"
   ],
   "metadata": {
    "collapsed": false,
    "pycharm": {
     "name": "#%%\n"
    }
   }
  },
  {
   "cell_type": "markdown",
   "source": [
    "Подготавливаем данные, которые алгоритм будет изменять в процессе работы"
   ],
   "metadata": {
    "collapsed": false,
    "pycharm": {
     "name": "#%% md\n"
    }
   }
  },
  {
   "cell_type": "code",
   "execution_count": 8,
   "outputs": [
    {
     "name": "stdout",
     "output_type": "stream",
     "text": [
      "4800/4800"
     ]
    },
    {
     "data": {
      "text/plain": "{'NY54': 19.59999999999999,\n 'CMBR': 22.310000000000016,\n 'CHCG': 12.32,\n 'CLEV': 15.199999999999998,\n 'RLGH': 15.600000000000005,\n 'ATLN': 10.590000000000009,\n 'PHLA': 18.650000000000002,\n 'WASH': 17.220000000000006,\n 'NSVL': 9.700000000000003,\n 'STLS': 8.300000000000002,\n 'NWOR': 7.170000000000003,\n 'HSTN': 4.869999999999998,\n 'SNAN': 5.0799999999999965,\n 'ORLD': 15.23999999999999,\n 'DNVR': 10.019999999999996,\n 'KSCY': 8.359999999999996,\n 'SNFN': 23.67999999999998,\n 'SCRM': 21.299999999999997,\n 'PTLD': 27.290000000000006,\n 'STTL': 30.32999999999999,\n 'SLKC': 15.01000000000001,\n 'LA03': 16.959999999999994,\n 'SNDG': 18.190000000000015,\n 'PHNX': 15.77}"
     },
     "execution_count": 8,
     "metadata": {},
     "output_type": "execute_result"
    }
   ],
   "source": [
    "# Текущее свободное место в каждом узле\n",
    "node_capacity = {}\n",
    "# Текущая задержка на каждом узле: задержка от абстрактного клиента до узла + средневзвешенная по популярности задержка для получения видео\n",
    "node_latency = {}\n",
    "# Копия текущего словаря с задержками. Используется в алгоритме\n",
    "node_with_space_latency = {}\n",
    "# Ближайший к текущему узлу узел содержащий копию видео\n",
    "node_video_closest_server = {}\n",
    "# Список видео содержащихся на узле\n",
    "node_videos = {}\n",
    "# Столбец значения которого определяют важность видео\n",
    "# Значения в данном столбце лежат в [0; 1] причем сумма всего столбца равна 1\n",
    "IMPORTANCE = \"popularity\"\n",
    "\n",
    "\n",
    "# Обнуляем данные размещения используя выбранный столбец важности видео\n",
    "def reset_placement(importance):\n",
    "    global node_capacity, node_latency, node_with_space_latency, node_video_closest_server, node_videos\n",
    "    node_capacity = {node: NODE_STORAGE_SIZE for node in nodes}\n",
    "    node_video_closest_server = {node: {} for node in nodes}\n",
    "    node_videos = {node: [] for node in nodes}\n",
    "    # Изначально заполняется только задержка от абстрактного клиента до узла\n",
    "    node_latency = {node: node_city_latency[node] for node in nodes}\n",
    "    # Прибавляем средневзвешенную по популярности задержку для получения видео\n",
    "    i = 0\n",
    "    for target_node in nodes:\n",
    "        j = 1\n",
    "        for video in videos.iloc:\n",
    "            node_latency[target_node] += fast_path_length[target_node][ORIGIN_SERVER] * video[importance]\n",
    "            node_video_closest_server[target_node][video[\"video_id\"]] = ORIGIN_SERVER\n",
    "            print(f\"\\r{j + i * videos.shape[0]}/{videos.shape[0] * len(nodes)}\", end='')\n",
    "            j += 1\n",
    "        i += 1\n",
    "\n",
    "    node_with_space_latency = node_latency.copy()\n",
    "\n",
    "\n",
    "reset_placement(IMPORTANCE)\n",
    "node_latency"
   ],
   "metadata": {
    "collapsed": false,
    "pycharm": {
     "name": "#%%\n"
    }
   }
  },
  {
   "cell_type": "markdown",
   "source": [
    "Алгоритм распределения видео по узлам сети"
   ],
   "metadata": {
    "collapsed": false,
    "pycharm": {
     "name": "#%% md\n"
    }
   }
  },
  {
   "cell_type": "code",
   "execution_count": 9,
   "outputs": [
    {
     "data": {
      "text/plain": "{'NY54': 4.480153357984368,\n 'CMBR': 5.222328079307912,\n 'CHCG': 5.391268737849552,\n 'CLEV': 5.135919974322745,\n 'RLGH': 5.228566151413595,\n 'ATLN': 4.222930067625714,\n 'PHLA': 4.260845586040722,\n 'WASH': 4.519275468725556,\n 'NSVL': 4.350217962835815,\n 'STLS': 3.6570491016183824,\n 'NWOR': 3.9453957085052873,\n 'HSTN': 3.226181432020306,\n 'SNAN': 3.269450210122628,\n 'ORLD': 7.008065237802476,\n 'DNVR': 4.688732848912544,\n 'KSCY': 4.805549362204886,\n 'SNFN': 8.570402959814697,\n 'SCRM': 5.907037160280083,\n 'PTLD': 7.385563279626708,\n 'STTL': 8.761847038521255,\n 'SLKC': 5.913352736718255,\n 'LA03': 4.912083186734715,\n 'SNDG': 5.007201567491483,\n 'PHNX': 5.709562119374922}"
     },
     "execution_count": 9,
     "metadata": {},
     "output_type": "execute_result"
    }
   ],
   "source": [
    "while node_with_space_latency:\n",
    "    # Выбираем узел с наибольшей задержкой\n",
    "    target_node = max(node_with_space_latency, key=node_with_space_latency.get)\n",
    "\n",
    "    # Убираем из поиска все видео размер которых превышает текущее свободное место на узле и которые уже есть на сервере\n",
    "    target_videos = videos[(videos[\"video_size\"] <= node_capacity[target_node]) & (~videos[\"video_id\"].isin(node_videos[target_node]))]\n",
    "    # Если нет видео которые можно разместить тогда убираем из рассмотрения данный узел\n",
    "    if target_videos.shape[0] == 0:\n",
    "        node_with_space_latency.pop(target_node)\n",
    "        continue\n",
    "\n",
    "    # Ищем видео, добавление которого на узел наилучшим образом улучшит задержку\n",
    "    max_video_latency = 0\n",
    "    target_video = None\n",
    "    for video in target_videos.iloc:\n",
    "        video_node = node_video_closest_server[target_node][video[\"video_id\"]]\n",
    "        cur_latency = fast_path_length[target_node][video_node] * video[\"popularity\"]\n",
    "        if cur_latency > max_video_latency:\n",
    "            max_video_latency = cur_latency\n",
    "            target_video = video\n",
    "\n",
    "    for node in nodes:\n",
    "        # Определяем будет ли улучшение для узла от размещения видео на выбранном узле\n",
    "        cur_video_node = node_video_closest_server[node][target_video[\"video_id\"]]\n",
    "        cur_latency = fast_path_length[node][cur_video_node]\n",
    "        new_latency = fast_path_length[node][target_node]\n",
    "        if cur_latency < new_latency:\n",
    "            continue\n",
    "\n",
    "        # Обновляем задержку и меняем узел, с которого данное видео будет запрашиваться\n",
    "        node_latency[node] -= cur_latency * target_video[\"popularity\"]\n",
    "        node_latency[node] += new_latency * target_video[\"popularity\"]\n",
    "        node_video_closest_server[node][target_video[\"video_id\"]] = target_node\n",
    "        if node in node_with_space_latency:\n",
    "            node_with_space_latency[node] -= cur_latency * target_video[\"popularity\"]\n",
    "            node_with_space_latency[node] += new_latency * target_video[\"popularity\"]\n",
    "    # Добавляем видео на узел и уменьшаем свободное место\n",
    "    node_videos[target_node].append(target_video[\"video_id\"])\n",
    "    node_capacity[target_node] -= target_video[\"video_size\"]\n",
    "\n",
    "node_latency"
   ],
   "metadata": {
    "collapsed": false,
    "pycharm": {
     "name": "#%%\n"
    }
   }
  },
  {
   "cell_type": "code",
   "execution_count": 37,
   "outputs": [
    {
     "name": "stdout",
     "output_type": "stream",
     "text": [
      "Видео, которые присутствуют только на оригинальном сервере: 80/200\n"
     ]
    }
   ],
   "source": [
    "videos_without_node = 0\n",
    "for video in videos[\"video_id\"]:\n",
    "    k = 0\n",
    "    for v in node_videos.values():\n",
    "        if video not in v:\n",
    "            k += 1\n",
    "    if k != len(node_videos):\n",
    "        videos_without_node += 1\n",
    "print(f\"Видео, которые присутствуют только на оригинальном сервере: {videos_without_node}/{videos.shape[0]}\")"
   ],
   "metadata": {
    "collapsed": false,
    "pycharm": {
     "name": "#%%\n"
    }
   }
  },
  {
   "cell_type": "markdown",
   "source": [
    "Распределение видео относительно длины"
   ],
   "metadata": {
    "collapsed": false
   }
  },
  {
   "cell_type": "code",
   "execution_count": 38,
   "outputs": [
    {
     "data": {
      "text/plain": "<Figure size 1440x1080 with 1 Axes>",
      "image/png": "[encoded data removed]"
     },
     "metadata": {
      "needs_background": "light"
     },
     "output_type": "display_data"
    }
   ],
   "source": [
    "ax = plt.figure(figsize=(20,15)).gca()\n",
    "videos[\"video_length\"].hist(ax=ax, bins=100)\n",
    "plt.show()"
   ],
   "metadata": {
    "collapsed": false,
    "pycharm": {
     "name": "#%%\n"
    }
   }
  },
  {
   "cell_type": "code",
   "execution_count": 22,
   "outputs": [],
   "source": [
    "# Разделим все видео на 10 групп относительно длины по квантилям\n",
    "videos[\"video_length_groups\"] = pd.qcut(videos[\"video_length\"], 10, labels=list(range(10)))"
   ],
   "metadata": {
    "collapsed": false,
    "pycharm": {
     "name": "#%%\n"
    }
   }
  },
  {
   "cell_type": "code",
   "execution_count": 30,
   "outputs": [],
   "source": [
    "# Подсчитаем максимальные и средние задержки для каждого видео\n",
    "max_video_latencies = []\n",
    "avg_video_latencies = []\n",
    "for video in videos.iloc:\n",
    "    max_video_latency = 0\n",
    "    avg_video_latency = 0\n",
    "    for node in nodes:\n",
    "        cur_video_node = node_video_closest_server[node][video[\"video_id\"]]\n",
    "        cur_latency = fast_path_length[node][cur_video_node]\n",
    "        if max_video_latency < cur_latency:\n",
    "            max_video_latency = cur_latency\n",
    "        avg_video_latency += cur_latency\n",
    "    avg_video_latency /= len(nodes)\n",
    "\n",
    "    max_video_latencies.append(max_video_latency)\n",
    "    avg_video_latencies.append(avg_video_latency)\n",
    "\n",
    "videos[\"max_video_latency\"] = max_video_latencies\n",
    "videos[\"avg_video_latency\"] = avg_video_latencies"
   ],
   "metadata": {
    "collapsed": false,
    "pycharm": {
     "name": "#%%\n"
    }
   }
  },
  {
   "cell_type": "code",
   "execution_count": 36,
   "outputs": [
    {
     "data": {
      "text/plain": "<Figure size 1728x720 with 1 Axes>",
      "image/png": "[encoded data removed]"
     },
     "metadata": {
      "needs_background": "light"
     },
     "output_type": "display_data"
    },
    {
     "data": {
      "text/plain": "<Figure size 1728x720 with 1 Axes>",
      "image/png": "[encoded data removed]"
     },
     "metadata": {
      "needs_background": "light"
     },
     "output_type": "display_data"
    }
   ],
   "source": [
    "# По новым колонкам оценим какова задержка для видео разной длины\n",
    "videos.groupby(\"video_length_groups\").boxplot(column=\"avg_video_latency\", subplots=False, figsize=(24,10))\n",
    "plt.show()\n",
    "videos.groupby(\"video_length_groups\").boxplot(column=\"max_video_latency\", subplots=False, figsize=(24,10))\n",
    "plt.show()"
   ],
   "metadata": {
    "collapsed": false,
    "pycharm": {
     "name": "#%%\n"
    }
   }
  }
 ],
 "metadata": {
  "kernelspec": {
   "display_name": "Python 3",
   "language": "python",
   "name": "python3"
  },
  "language_info": {
   "codemirror_mode": {
    "name": "ipython",
    "version": 2
   },
   "file_extension": ".py",
   "mimetype": "text/x-python",
   "name": "python",
   "nbconvert_exporter": "python",
   "pygments_lexer": "ipython2",
   "version": "2.7.6"
  }
 },
 "nbformat": 4,
 "nbformat_minor": 0
}