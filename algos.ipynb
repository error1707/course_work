{
 "cells": [
  {
   "cell_type": "code",
   "execution_count": 1,
   "metadata": {
    "collapsed": true
   },
   "outputs": [],
   "source": [
    "import pandas as pd\n",
    "from geopy.distance import distance\n",
    "import networkx as nx"
   ]
  },
  {
   "cell_type": "code",
   "execution_count": 2,
   "outputs": [],
   "source": [
    "STORAGE_SIZE_SHARE = 0.05\n",
    "LATENCY_PER_KM = 0.0048\n",
    "NETWORK_FACTOR = 1.7\n",
    "DATA_PROCESSING_MS = 0"
   ],
   "metadata": {
    "collapsed": false,
    "pycharm": {
     "name": "#%%\n"
    }
   }
  },
  {
   "cell_type": "markdown",
   "source": [
    "Функция для расчета задержки между двумя узлами"
   ],
   "metadata": {
    "collapsed": false,
    "pycharm": {
     "name": "#%% md\n"
    }
   }
  },
  {
   "cell_type": "code",
   "execution_count": 3,
   "outputs": [],
   "source": [
    "# point -> (lat, lon)\n",
    "def get_latency(point1, point2):\n",
    "    return round(distance(point1, point2).km * LATENCY_PER_KM * NETWORK_FACTOR + DATA_PROCESSING_MS, 2)"
   ],
   "metadata": {
    "collapsed": false,
    "pycharm": {
     "name": "#%%\n"
    }
   }
  },
  {
   "cell_type": "markdown",
   "source": [
    "Загружаем граф, задаем веса ребрам и сохраняем кратчайшие пути между узлами"
   ],
   "metadata": {
    "collapsed": false,
    "pycharm": {
     "name": "#%% md\n"
    }
   }
  },
  {
   "cell_type": "code",
   "execution_count": 4,
   "outputs": [
    {
     "name": "stdout",
     "output_type": "stream",
     "text": [
      "NY54 <- 2.48 -> CMBR\n",
      "NY54 <- 9.37 -> CHCG\n",
      "NY54 <- 1.06 -> PHLA\n",
      "NY54 <- 2.68 -> WASH\n",
      "CMBR <- 3.54 -> PHLA\n",
      "CHCG <- 4.06 -> CLEV\n",
      "CHCG <- 8.75 -> PHLA\n",
      "CHCG <- 3.41 -> STLS\n",
      "CHCG <- 12.07 -> DNVR\n",
      "CHCG <- 5.42 -> KSCY\n",
      "CHCG <- 24.4 -> SNFN\n",
      "CHCG <- 22.81 -> STTL\n",
      "CHCG <- 16.54 -> SLKC\n",
      "CLEV <- 6.03 -> NSVL\n",
      "CLEV <- 6.46 -> STLS\n",
      "CLEV <- 4.71 -> PHLA\n",
      "RLGH <- 4.67 -> ATLN\n",
      "RLGH <- 3.06 -> WASH\n",
      "ATLN <- 7.12 -> WASH\n",
      "ATLN <- 2.82 -> NSVL\n",
      "ATLN <- 6.14 -> STLS\n",
      "ATLN <- 9.48 -> DLLS\n",
      "ATLN <- 5.26 -> ORLD\n",
      "PHLA <- 1.63 -> WASH\n",
      "NSVL <- 3.32 -> STLS\n",
      "NSVL <- 8.11 -> DLLS\n",
      "STLS <- 7.19 -> DLLS\n",
      "STLS <- 3.17 -> KSCY\n",
      "STLS <- 20.87 -> LA03\n",
      "NWOR <- 4.17 -> HSTN\n",
      "NWOR <- 5.82 -> DLLS\n",
      "NWOR <- 7.01 -> ORLD\n",
      "HSTN <- 2.49 -> SNAN\n",
      "HSTN <- 2.95 -> DLLS\n",
      "HSTN <- 11.15 -> ORLD\n",
      "SNAN <- 11.14 -> PHNX\n",
      "SNAN <- 3.31 -> DLLS\n",
      "DLLS <- 8.69 -> DNVR\n",
      "DLLS <- 5.95 -> KSCY\n",
      "DLLS <- 19.48 -> SNFN\n",
      "DLLS <- 16.28 -> LA03\n",
      "DNVR <- 7.29 -> KSCY\n",
      "DNVR <- 12.47 -> SNFN\n",
      "DNVR <- 4.88 -> SLKC\n",
      "KSCY <- 19.76 -> SNFN\n",
      "SNFN <- 0.99 -> SCRM\n",
      "SNFN <- 7.02 -> PTLD\n",
      "SNFN <- 8.91 -> STTL\n",
      "SNFN <- 7.89 -> SLKC\n",
      "SNFN <- 4.56 -> LA03\n",
      "SCRM <- 7.0 -> SLKC\n",
      "PTLD <- 1.9 -> STTL\n",
      "SLKC <- 7.61 -> LA03\n",
      "LA03 <- 1.46 -> SNDG\n",
      "LA03 <- 4.7 -> PHNX\n",
      "SNDG <- 3.93 -> PHNX\n"
     ]
    }
   ],
   "source": [
    "G = nx.read_gml(\"topology.gml\")\n",
    "\n",
    "# Сервер, который содержит все видео, а также все узлы сети обращаются к нему в самом начале\n",
    "ORIGIN_SERVER = \"DLLS\"\n",
    "\n",
    "# Задаем веса всем ребрам графа - задержки между узлами сети\n",
    "for A_label, B_label in G.edges:\n",
    "    A = G.nodes[A_label]\n",
    "    B = G.nodes[B_label]\n",
    "    G[A_label][B_label]['weight'] = get_latency((A['Latitude'], A['Longitude']), (B['Latitude'], B['Longitude']))\n",
    "    print(f\"{A_label} <- {G[A_label][B_label]['weight']} -> {B_label}\")\n",
    "\n",
    "\n",
    "# Определяем кратчайшие пути между всеми узлами и длину этих путей\n",
    "fast_path = {}\n",
    "fast_path_length = {}\n",
    "for src, (lengths, paths) in nx.all_pairs_dijkstra(G):\n",
    "    fast_path[src] = {}\n",
    "    for dst, path in paths.items():\n",
    "        fast_path[src][dst] = path\n",
    "\n",
    "    fast_path_length[src] = {}\n",
    "    for dst, length in lengths.items():\n",
    "        fast_path_length[src][dst] = length\n",
    "\n",
    "nodes = list(G.nodes)\n",
    "nodes.remove(ORIGIN_SERVER)"
   ],
   "metadata": {
    "collapsed": false,
    "pycharm": {
     "name": "#%%\n"
    }
   }
  },
  {
   "cell_type": "markdown",
   "source": [
    "Загружаем датасет с городами и определяем средневзвешенную по численности населения задержку между абстрактным клиентом и узлом"
   ],
   "metadata": {
    "collapsed": false
   }
  },
  {
   "cell_type": "code",
   "execution_count": 5,
   "outputs": [
    {
     "name": "stdout",
     "output_type": "stream",
     "text": [
      "28338/28338"
     ]
    },
    {
     "data": {
      "text/plain": "{'NY54': 0.32,\n 'CMBR': 0.55,\n 'CHCG': 1.72,\n 'CLEV': 1.55,\n 'RLGH': 1.45,\n 'ATLN': 1.11,\n 'PHLA': 0.42,\n 'WASH': 0.62,\n 'NSVL': 1.59,\n 'STLS': 1.11,\n 'NWOR': 1.35,\n 'HSTN': 1.92,\n 'SNAN': 1.77,\n 'ORLD': 2.41,\n 'DNVR': 1.33,\n 'KSCY': 2.41,\n 'SNFN': 4.2,\n 'SCRM': 0.83,\n 'PTLD': 0.79,\n 'STTL': 1.94,\n 'SLKC': 1.44,\n 'LA03': 0.68,\n 'SNDG': 0.45,\n 'PHNX': 1.32}"
     },
     "execution_count": 5,
     "metadata": {},
     "output_type": "execute_result"
    }
   ],
   "source": [
    "cities = pd.read_csv(\"uscities.csv\")\n",
    "\n",
    "# Для каждого города определяем ближайший узел сети\n",
    "node_cities = {i: [] for i in nodes}\n",
    "i = 1\n",
    "for city in cities.iloc:\n",
    "    point1 = (city[\"lat\"], city[\"lng\"])\n",
    "    population = city[\"population\"]\n",
    "    min_latency = -1\n",
    "    min_node = \"\"\n",
    "    for target_node in nodes:\n",
    "        point2 = (G.nodes[target_node]['Latitude'], G.nodes[target_node]['Longitude'])\n",
    "        latency = get_latency(point1, point2)\n",
    "        if min_latency == -1 or latency < min_latency:\n",
    "            min_latency = latency\n",
    "            min_node = target_node\n",
    "    node_cities[min_node].append((min_latency, population))\n",
    "    print(f\"\\r{i}/{cities.shape[0]}\", end='')\n",
    "    i += 1\n",
    "\n",
    "# Считаем средневзвешенную по численности населения задержку от абстрактного клиента до узла\n",
    "node_city_latency = {}\n",
    "for target_node, values in node_cities.items():\n",
    "    pop_lat = 0\n",
    "    sum_pop = 0\n",
    "    for lat, pop in values:\n",
    "        pop_lat += pop * lat\n",
    "        sum_pop += pop\n",
    "    node_city_latency[target_node] = round(pop_lat / sum_pop, 2)\n",
    "\n",
    "node_city_latency"
   ],
   "metadata": {
    "collapsed": false,
    "pycharm": {
     "name": "#%%\n"
    }
   }
  },
  {
   "cell_type": "markdown",
   "source": [
    "Загружаем датасет с видео, определяем популярность видео в виде доли просмотров от общего числа, определяем ограничение по размеру хранилища узла"
   ],
   "metadata": {
    "collapsed": false,
    "pycharm": {
     "name": "#%% md\n"
    }
   }
  },
  {
   "cell_type": "code",
   "execution_count": 6,
   "outputs": [],
   "source": [
    "videos = pd.read_csv(\"./videos.csv\")\n",
    "# Чтобы не работало долго берем небольшую выборку\n",
    "videos = videos.sample(200)\n",
    "videos[\"popularity\"] = videos[\"view_count\"] / videos[\"view_count\"].sum()\n",
    "\n",
    "# Размер хранилища узла определяется как доля от суммарного размера видео в датасете\n",
    "NODE_STORAGE_SIZE = int(videos[\"video_size\"].sum() * STORAGE_SIZE_SHARE)"
   ],
   "metadata": {
    "collapsed": false,
    "pycharm": {
     "name": "#%%\n"
    }
   }
  },
  {
   "cell_type": "markdown",
   "source": [
    "Подготавливаем данные, которые алгоритм будет изменять в процессе работы"
   ],
   "metadata": {
    "collapsed": false,
    "pycharm": {
     "name": "#%% md\n"
    }
   }
  },
  {
   "cell_type": "code",
   "execution_count": 7,
   "outputs": [
    {
     "name": "stdout",
     "output_type": "stream",
     "text": [
      "4800/4800"
     ]
    },
    {
     "data": {
      "text/plain": "{'NY54': 19.59999999999999,\n 'CMBR': 22.31000000000001,\n 'CHCG': 12.32,\n 'CLEV': 15.2,\n 'RLGH': 15.599999999999996,\n 'ATLN': 10.589999999999998,\n 'PHLA': 18.650000000000013,\n 'WASH': 17.220000000000002,\n 'NSVL': 9.700000000000003,\n 'STLS': 8.300000000000004,\n 'NWOR': 7.170000000000003,\n 'HSTN': 4.869999999999999,\n 'SNAN': 5.079999999999998,\n 'ORLD': 15.239999999999993,\n 'DNVR': 10.019999999999996,\n 'KSCY': 8.360000000000001,\n 'SNFN': 23.68,\n 'SCRM': 21.29999999999999,\n 'PTLD': 27.290000000000003,\n 'STTL': 30.32999999999999,\n 'SLKC': 15.010000000000002,\n 'LA03': 16.96,\n 'SNDG': 18.190000000000012,\n 'PHNX': 15.770000000000003}"
     },
     "execution_count": 7,
     "metadata": {},
     "output_type": "execute_result"
    }
   ],
   "source": [
    "# Текущее свободное место в каждом узле\n",
    "node_capacity = {node: NODE_STORAGE_SIZE for node in nodes}\n",
    "# Текущая задержка на каждом узле: задержка от абстрактного клиента до узла + средневзвешенная по популярности задержка для получения видео\n",
    "# Изначально заполняется только задержка от абстрактного клиента до узла\n",
    "node_latency = {node: node_city_latency[node] for node in nodes}\n",
    "# Ближайший к текущему узлу узел содержащий копию видео\n",
    "node_video_closest_server = {node: {} for node in nodes}\n",
    "# Список видео содержащихся на узле\n",
    "node_videos = {node: [] for node in nodes}\n",
    "\n",
    "# Прибавляем средневзвешенную по популярности задержку для получения видео\n",
    "i = 0\n",
    "for target_node in nodes:\n",
    "    j = 1\n",
    "    for video in videos.iloc:\n",
    "        node_latency[target_node] += fast_path_length[target_node][ORIGIN_SERVER] * video[\"popularity\"]\n",
    "        node_video_closest_server[target_node][video[\"video_id\"]] = ORIGIN_SERVER\n",
    "        print(f\"\\r{j + i * videos.shape[0]}/{videos.shape[0] * len(nodes)}\", end='')\n",
    "        j += 1\n",
    "    i += 1\n",
    "\n",
    "node_latency"
   ],
   "metadata": {
    "collapsed": false,
    "pycharm": {
     "name": "#%%\n"
    }
   }
  },
  {
   "cell_type": "markdown",
   "source": [
    "Алгоритм распределения видео по узлам сети"
   ],
   "metadata": {
    "collapsed": false,
    "pycharm": {
     "name": "#%% md\n"
    }
   }
  },
  {
   "cell_type": "code",
   "execution_count": 8,
   "outputs": [
    {
     "data": {
      "text/plain": "{'NY54': 4.899295284315782,\n 'CMBR': 5.378884131942755,\n 'CHCG': 5.193903675892968,\n 'CLEV': 5.101776549420974,\n 'RLGH': 5.126231426493415,\n 'ATLN': 4.482210762222275,\n 'PHLA': 4.571531474463566,\n 'WASH': 4.574670986366336,\n 'NSVL': 4.35525672791589,\n 'STLS': 3.706427680923964,\n 'NWOR': 3.566073315830426,\n 'HSTN': 3.129522702649116,\n 'SNAN': 3.0679940742094542,\n 'ORLD': 6.872549671867417,\n 'DNVR': 5.073508578007596,\n 'KSCY': 4.53854391451263,\n 'SNFN': 8.231768352566807,\n 'SCRM': 5.483167127378758,\n 'PTLD': 7.283203412597586,\n 'STTL': 8.099164368391756,\n 'SLKC': 5.603487400324568,\n 'LA03': 4.526610682961157,\n 'SNDG': 4.608837091737104,\n 'PHNX': 5.416730684154542}"
     },
     "execution_count": 8,
     "metadata": {},
     "output_type": "execute_result"
    }
   ],
   "source": [
    "# Копия текущего словаря с задержками. Используется в алгоритме\n",
    "node_with_space_latency = node_latency.copy()\n",
    "\n",
    "while node_with_space_latency:\n",
    "    # Выбираем узел с наибольшей задержкой\n",
    "    target_node = max(node_with_space_latency, key=node_with_space_latency.get)\n",
    "\n",
    "    # Ищем видео, получение которого происходит с наибольшей задержкой и размер которого не превышает текущее свободное место на узле\n",
    "    max_video_latency = 0\n",
    "    target_video = None\n",
    "    for video in videos.iloc:\n",
    "        video_node = node_video_closest_server[target_node][video[\"video_id\"]]\n",
    "        if video_node == target_node:\n",
    "            continue\n",
    "        cur_latency = fast_path_length[target_node][video_node] * video[\"popularity\"]\n",
    "        if cur_latency > max_video_latency and node_capacity[target_node] > video[\"video_size\"]:\n",
    "            max_video_latency = cur_latency\n",
    "            target_video = video\n",
    "    # Означает, что остались только видео, которые не влезают на текущий узел\n",
    "    if target_video is None:\n",
    "        node_with_space_latency.pop(target_node)\n",
    "        continue\n",
    "    for node in nodes:\n",
    "        # Определяем будет ли улучшение для узла от размещения видео на выбранном узле\n",
    "        cur_video_node = node_video_closest_server[node][target_video[\"video_id\"]]\n",
    "        cur_latency = fast_path_length[node][cur_video_node]\n",
    "        new_latency = fast_path_length[node][target_node]\n",
    "        if cur_latency < new_latency:\n",
    "            continue\n",
    "\n",
    "        # Обновляем задержку и меняем узел, с которого данное видео будет запрашиваться\n",
    "        node_latency[node] -= cur_latency * target_video[\"popularity\"]\n",
    "        node_latency[node] += new_latency * target_video[\"popularity\"]\n",
    "        node_video_closest_server[node][target_video[\"video_id\"]] = target_node\n",
    "        if node in node_with_space_latency:\n",
    "            node_with_space_latency[node] -= cur_latency * target_video[\"popularity\"]\n",
    "            node_with_space_latency[node] += new_latency * target_video[\"popularity\"]\n",
    "    # Добавляем видео на узел и уменьшаем свободное место\n",
    "    node_videos[target_node].append(target_video[\"video_id\"])\n",
    "    node_capacity[target_node] -= target_video[\"video_size\"]\n",
    "\n",
    "node_latency"
   ],
   "metadata": {
    "collapsed": false,
    "pycharm": {
     "name": "#%%\n"
    }
   }
  }
 ],
 "metadata": {
  "kernelspec": {
   "display_name": "Python 3",
   "language": "python",
   "name": "python3"
  },
  "language_info": {
   "codemirror_mode": {
    "name": "ipython",
    "version": 2
   },
   "file_extension": ".py",
   "mimetype": "text/x-python",
   "name": "python",
   "nbconvert_exporter": "python",
   "pygments_lexer": "ipython2",
   "version": "2.7.6"
  }
 },
 "nbformat": 4,
 "nbformat_minor": 0
}